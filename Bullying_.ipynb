{
  "nbformat": 4,
  "nbformat_minor": 0,
  "metadata": {
    "colab": {
      "provenance": [],
      "authorship_tag": "ABX9TyPOS6Iuly+KVI4xoALlCgwB",
      "include_colab_link": true
    },
    "kernelspec": {
      "name": "python3",
      "display_name": "Python 3"
    },
    "language_info": {
      "name": "python"
    }
  },
  "cells": [
    {
      "cell_type": "markdown",
      "metadata": {
        "id": "view-in-github",
        "colab_type": "text"
      },
      "source": [
        "<a href=\"https://colab.research.google.com/github/AllyneCoelho/Projeto_Unidos_contra_o_Bullying/blob/main/Bullying_.ipynb\" target=\"_parent\"><img src=\"https://colab.research.google.com/assets/colab-badge.svg\" alt=\"Open In Colab\"/></a>"
      ]
    },
    {
      "cell_type": "code",
      "source": [
        "!pip install -q -U google-generativeai"
      ],
      "metadata": {
        "id": "YF7zre45P_4u"
      },
      "execution_count": null,
      "outputs": []
    },
    {
      "cell_type": "code",
      "source": [
        "import google.generativeai as bullying\n",
        "from google.colab import userdata\n",
        "GOOGLE_API_KEY= userdata.get(\"secret_key\")\n",
        "bullying.configure(api_key=GOOGLE_API_KEY)"
      ],
      "metadata": {
        "id": "AMlAmgbN-WYt"
      },
      "execution_count": 23,
      "outputs": []
    },
    {
      "cell_type": "code",
      "source": [
        "for m in bullying.list_models():\n",
        "  if \"generateContent\" in m.supported_generation_methods:\n",
        "    print(m.name)"
      ],
      "metadata": {
        "id": "Epv7Ggy5XPEq",
        "colab": {
          "base_uri": "https://localhost:8080/",
          "height": 145
        },
        "outputId": "82d5cb93-e8ed-4bf4-dbe6-d364d3870fb7"
      },
      "execution_count": 24,
      "outputs": [
        {
          "output_type": "stream",
          "name": "stdout",
          "text": [
            "models/gemini-1.0-pro\n",
            "models/gemini-1.0-pro-001\n",
            "models/gemini-1.0-pro-latest\n",
            "models/gemini-1.0-pro-vision-latest\n",
            "models/gemini-1.5-pro-latest\n",
            "models/gemini-pro\n",
            "models/gemini-pro-vision\n"
          ]
        }
      ]
    },
    {
      "cell_type": "code",
      "source": [
        "generation_config={\"candidate_count\":1,\n",
        "                   \"temperature\":0.5,}"
      ],
      "metadata": {
        "id": "SxTZCSYcXpCH"
      },
      "execution_count": null,
      "outputs": []
    },
    {
      "cell_type": "code",
      "source": [
        "safety_settings = {\"harassment\": \"block_none\",\n",
        "                   \"hate\": \"block_none\",\n",
        "                   \"sexual\": \"block_none\",\n",
        "                   \"dangerous\": \"block_none\",}"
      ],
      "metadata": {
        "id": "hCf274IrYn2g"
      },
      "execution_count": null,
      "outputs": []
    },
    {
      "cell_type": "markdown",
      "source": [
        "Iniciando o modelo"
      ],
      "metadata": {
        "id": "sPqXhFBiZuus"
      }
    },
    {
      "cell_type": "code",
      "source": [
        "model = bullying.GenerativeModel(\n",
        "    model_name=\"gemini-1.0-pro\",\n",
        "    generation_config=generation_config,\n",
        "    safety_settings=safety_settings)"
      ],
      "metadata": {
        "id": "NWKYP1uBZzh8"
      },
      "execution_count": null,
      "outputs": []
    },
    {
      "cell_type": "code",
      "source": [
        "response=model.generate_content(\"Como saber se estou sofrendo bullying?\")\n",
        "print(response.text)"
      ],
      "metadata": {
        "colab": {
          "base_uri": "https://localhost:8080/",
          "height": 677
        },
        "id": "1tUobDUKiId5",
        "outputId": "7e584569-4054-495e-aee9-ccd55b33e49d"
      },
      "execution_count": null,
      "outputs": [
        {
          "output_type": "stream",
          "name": "stdout",
          "text": [
            "**Sinais de que você pode estar sofrendo bullying:**\n",
            "\n",
            "**Comportamentos:**\n",
            "\n",
            "* Insultos, provocações ou apelidos maldosos\n",
            "* Ameaças ou intimidações\n",
            "* Disseminação de rumores ou fofocas\n",
            "* Isolamento social ou exclusão de atividades\n",
            "* Danos ou roubo de pertences\n",
            "* Agressão física ou ameaças de agressão\n",
            "\n",
            "**Sentimentos:**\n",
            "\n",
            "* Medo, ansiedade ou estresse\n",
            "* Tristeza, depressão ou baixa autoestima\n",
            "* Raiva, frustração ou raiva\n",
            "* Vergonha, constrangimento ou humilhação\n",
            "* Sentimentos de insegurança ou impotência\n",
            "\n",
            "**Impactos:**\n",
            "\n",
            "* Dificuldade em se concentrar na escola ou no trabalho\n",
            "* Problemas de saúde, como dores de cabeça ou problemas de estômago\n",
            "* Evitar situações ou pessoas que você teme\n",
            "* Pensamentos ou comportamentos autodestrutivos\n",
            "\n",
            "**Outros sinais:**\n",
            "\n",
            "* Mudanças no comportamento, como ficar retraído ou agressivo\n",
            "* Lesões inexplicáveis ​​ou pertences danificados\n",
            "* Uso de álcool ou drogas para lidar com o estresse\n",
            "* Faltar à escola ou ao trabalho com frequência\n",
            "\n",
            "**Lembre-se:**\n",
            "\n",
            "* O bullying pode assumir muitas formas, incluindo verbal, físico, social e cibernético.\n",
            "* Não é sua culpa se você estiver sofrendo bullying.\n",
            "* É importante procurar ajuda se você suspeitar que está sofrendo bullying.\n"
          ]
        }
      ]
    },
    {
      "cell_type": "code",
      "source": [
        "chat = model.start_chat(history=[])"
      ],
      "metadata": {
        "id": "uhDN2uJPjDEe"
      },
      "execution_count": null,
      "outputs": []
    },
    {
      "cell_type": "markdown",
      "source": [
        "Perfil do usuário - A partir da idade inserida, é possível filtrar se sou uma criança ou adolescente passando pelo bullying ou um adulto (pai, professor, etc) que quer saber mais sobre o assunto e como abordá-lo."
      ],
      "metadata": {
        "id": "I77E9I6RsoiS"
      }
    },
    {
      "cell_type": "code",
      "source": [
        "chat = model.start_chat(history=[])\n",
        "def identificar_usuario():\n",
        "    print(\"Olá, aqui é Zona Segura! Para te ajudar melhor, preciso saber sua idade. Você poderia me dizer quantos anos você tem?\")\n",
        "    idade = int(input(\"Quantos anos você tem? Digite apenas o número. \"))\n",
        "    if idade <= 12:\n",
        "        return \"Olá, amiguinho\"\n",
        "    elif idade <= 18:\n",
        "        return \"Olá, companheiro\"\n",
        "    else:\n",
        "        relacao = input(\"Você é um(a) pai/mãe, professor(a) ou outro adulto próximo? (Responda com 'pai', 'mãe', 'professor' ou 'outro'): \")\n",
        "        if relacao in [\"pai\", \"mãe\", \"professor\", \"outro\"]:\n",
        "            return relacao\n",
        "        else:\n",
        "            print(\"O que você quer saber sobre bullying?\")\n",
        "            return identificar_usuario()\n",
        "\n",
        "usuario = identificar_usuario()\n",
        "if usuario == \"Olá, amiguinho\":\n",
        "    print(f\"{usuario}, é importante contar a um adulto de confiança se você está passando por bullying. Lembre-se, você não está sozinho! Um professor, seus pais ou um responsável podem te ajudar. Me conta o que está acontecendo.\")\n",
        "elif usuario == \"Olá, companheiro\":\n",
        "    print(f\"{usuario}, bullying nunca é certo. Lembre-se de que você é forte e pode superar isso. Conversar com um amigo, familiar ou conselheiro pode fazer a diferença.O que você quer saber sobre o assunto?\")\n",
        "else:\n",
        "    print(f\"{usuario}, obrigado por se preocupar com o bem-estar de uma criança ou adolescente. Como podemos ajudar?\")\n",
        "\n",
        "prompt = input(\"Você:\")\n",
        "while prompt != \"fim\":\n",
        "    response = chat.send_message(prompt)\n",
        "    print(\"Zona Segura: \",response.text, \"\\n\")\n",
        "    print(\"\\n\")\n",
        "    print(f\"Zona Segura:Faça outra pergunta se tiver mais dúvidas ou digite 'fim' para encerrar a conversa.\\n\")\n",
        "    prompt = input(\"Você:\")\n",
        "\n",
        "\n"
      ],
      "metadata": {
        "colab": {
          "base_uri": "https://localhost:8080/",
          "height": 438
        },
        "id": "CinR26ufsZae",
        "outputId": "b3fa1e82-6358-44a1-d67b-d42443550f13"
      },
      "execution_count": 31,
      "outputs": [
        {
          "name": "stdout",
          "output_type": "stream",
          "text": [
            "Olá, aqui é Zona Segura! Para te ajudar melhor, preciso saber sua idade. Você poderia me dizer quantos anos você tem?\n",
            "Quantos anos você tem? Digite apenas o número. 40\n",
            "Você é um(a) pai/mãe, professor(a) ou outro adulto próximo? (Responda com 'pai', 'mãe', 'professor' ou 'outro'): mãe\n",
            "mãe, obrigado por se preocupar com o bem-estar de uma criança ou adolescente. Como podemos ajudar?\n",
            "Você:estou preocupada com meu filho\n",
            "Zona Segura:  Entendo que você esteja preocupada com seu filho. Aqui estão algumas coisas que você pode fazer:\n",
            "\n",
            "* **Observe o comportamento dele:** Procure mudanças significativas no comportamento, como isolamento, alterações de humor ou perda de interesse em atividades que antes gostava.\n",
            "* **Converse com ele:** Abra um diálogo aberto e honesto com seu filho. Pergunte como ele está se sentindo e se há algo que o esteja incomodando.\n",
            "* **Ouça atentamente:** Quando seu filho estiver falando, ouça atentamente sem interromper. Mostre que você se importa com o que ele tem a dizer.\n",
            "* **Valide os sentimentos dele:** Deixe seu filho saber que seus sentimentos são válidos, mesmo que você não concorde com eles. Isso ajuda a construir confiança e faz com que ele se sinta ouvido.\n",
            "* **Ofereça apoio:** Mostre a seu filho que você está lá para apoiá-lo, não importa o que aconteça. Deixe-o saber que ele pode contar com você para obter ajuda e orientação.\n",
            "* **Busque ajuda profissional:** Se você estiver preocupado com a saúde mental ou o bem-estar de seu filho, não hesite em procurar ajuda profissional. Um terapeuta pode fornecer apoio, orientação e estratégias de enfrentamento.\n",
            "* **Cuide de você:** Cuidar de uma criança preocupante pode ser estressante. Certifique-se de cuidar de si mesma também. Pratique o autocuidado, como exercícios, alimentação saudável e sono suficiente.\n",
            "\n",
            "Lembre-se de que você não está sozinho. Existem recursos e apoio disponíveis para ajudá-lo a lidar com as preocupações com seu filho. \n",
            "\n",
            "\n",
            "\n",
            "Zona Segura:Faça outra pergunta se tiver mais dúvidas ou digite 'fim' para encerrar a conversa.\n",
            "\n",
            "Você:fim\n"
          ]
        }
      ]
    }
  ]
}